{
  "nbformat": 4,
  "nbformat_minor": 0,
  "metadata": {
    "colab": {
      "provenance": []
    },
    "kernelspec": {
      "name": "python3",
      "display_name": "Python 3"
    },
    "language_info": {
      "name": "python"
    }
  },
  "cells": [
    {
      "cell_type": "code",
      "execution_count": null,
      "metadata": {
        "id": "1E4UJqJzL-Il"
      },
      "outputs": [],
      "source": [
        "import numpy as np\n",
        "import pandas as pd\n",
        "from gurobipy import *"
      ]
    },
    {
      "cell_type": "code",
      "source": [
        "!pip install gurobipy  # install gurobipy, if not already installed\n",
        "import gurobipy as gp"
      ],
      "metadata": {
        "colab": {
          "base_uri": "https://localhost:8080/"
        },
        "id": "0U15tGOsMlC1",
        "outputId": "b1b10412-6a30-42fa-ab1b-747bf84f9d76"
      },
      "execution_count": null,
      "outputs": [
        {
          "output_type": "stream",
          "name": "stdout",
          "text": [
            "Requirement already satisfied: gurobipy in /usr/local/lib/python3.10/dist-packages (11.0.1)\n"
          ]
        }
      ]
    },
    {
      "cell_type": "code",
      "source": [
        "df = pd.read_excel('real_distances_10customers.xls', index_col=0) # dataframe\n",
        "df"
      ],
      "metadata": {
        "colab": {
          "base_uri": "https://localhost:8080/",
          "height": 394
        },
        "id": "eO9FmmkyMlFZ",
        "outputId": "0ade70e9-9ddc-410a-af19-3f9c949a02f0"
      },
      "execution_count": null,
      "outputs": [
        {
          "output_type": "execute_result",
          "data": {
            "text/plain": [
              "       0      1      2      3      4      5      6      7      8      9   \\\n",
              "0     0.0  225.4  351.3  324.2  204.8  272.1  349.7  340.2  386.0  141.8   \n",
              "1   228.1    0.0  150.1  123.0   62.8  113.6  209.4  190.9  226.7  103.6   \n",
              "2   303.5  101.6    0.0  145.5  124.1  153.2  263.8  245.3  244.6  179.0   \n",
              "3   320.5  123.2  176.9    0.0  141.1  115.8  167.9  149.4  127.6  196.0   \n",
              "4   211.2   60.4  174.2  145.4    0.0   71.9  160.7  142.2  188.0   86.7   \n",
              "5   273.3  107.8  212.4  113.9   71.7    0.0  110.6   92.1  137.9  148.8   \n",
              "6   355.4  195.7  306.5  161.0  149.5   94.1    0.0   39.1  102.8  229.6   \n",
              "7   328.3  162.8  267.4  121.9  126.7   55.0   52.8    0.0   80.1  203.8   \n",
              "8   409.0  242.7  303.0  143.5  203.2  143.7  129.3  116.5    0.0  284.5   \n",
              "9   142.3  104.0  229.9  202.8   83.4  150.7  222.8  215.5  261.3    0.0   \n",
              "10  270.3   77.7  127.5   61.6   90.9   85.2  195.8  177.3  172.5  145.8   \n",
              "\n",
              "       10  \n",
              "0   269.8  \n",
              "1    73.6  \n",
              "2    86.1  \n",
              "3    63.7  \n",
              "4    92.8  \n",
              "5    88.4  \n",
              "6   182.5  \n",
              "7   143.4  \n",
              "8   195.7  \n",
              "9   148.4  \n",
              "10    0.0  "
            ],
            "text/html": [
              "\n",
              "  <div id=\"df-9fbf219e-fdcb-41fd-ab35-9de6a3a580e8\" class=\"colab-df-container\">\n",
              "    <div>\n",
              "<style scoped>\n",
              "    .dataframe tbody tr th:only-of-type {\n",
              "        vertical-align: middle;\n",
              "    }\n",
              "\n",
              "    .dataframe tbody tr th {\n",
              "        vertical-align: top;\n",
              "    }\n",
              "\n",
              "    .dataframe thead th {\n",
              "        text-align: right;\n",
              "    }\n",
              "</style>\n",
              "<table border=\"1\" class=\"dataframe\">\n",
              "  <thead>\n",
              "    <tr style=\"text-align: right;\">\n",
              "      <th></th>\n",
              "      <th>0</th>\n",
              "      <th>1</th>\n",
              "      <th>2</th>\n",
              "      <th>3</th>\n",
              "      <th>4</th>\n",
              "      <th>5</th>\n",
              "      <th>6</th>\n",
              "      <th>7</th>\n",
              "      <th>8</th>\n",
              "      <th>9</th>\n",
              "      <th>10</th>\n",
              "    </tr>\n",
              "  </thead>\n",
              "  <tbody>\n",
              "    <tr>\n",
              "      <th>0</th>\n",
              "      <td>0.0</td>\n",
              "      <td>225.4</td>\n",
              "      <td>351.3</td>\n",
              "      <td>324.2</td>\n",
              "      <td>204.8</td>\n",
              "      <td>272.1</td>\n",
              "      <td>349.7</td>\n",
              "      <td>340.2</td>\n",
              "      <td>386.0</td>\n",
              "      <td>141.8</td>\n",
              "      <td>269.8</td>\n",
              "    </tr>\n",
              "    <tr>\n",
              "      <th>1</th>\n",
              "      <td>228.1</td>\n",
              "      <td>0.0</td>\n",
              "      <td>150.1</td>\n",
              "      <td>123.0</td>\n",
              "      <td>62.8</td>\n",
              "      <td>113.6</td>\n",
              "      <td>209.4</td>\n",
              "      <td>190.9</td>\n",
              "      <td>226.7</td>\n",
              "      <td>103.6</td>\n",
              "      <td>73.6</td>\n",
              "    </tr>\n",
              "    <tr>\n",
              "      <th>2</th>\n",
              "      <td>303.5</td>\n",
              "      <td>101.6</td>\n",
              "      <td>0.0</td>\n",
              "      <td>145.5</td>\n",
              "      <td>124.1</td>\n",
              "      <td>153.2</td>\n",
              "      <td>263.8</td>\n",
              "      <td>245.3</td>\n",
              "      <td>244.6</td>\n",
              "      <td>179.0</td>\n",
              "      <td>86.1</td>\n",
              "    </tr>\n",
              "    <tr>\n",
              "      <th>3</th>\n",
              "      <td>320.5</td>\n",
              "      <td>123.2</td>\n",
              "      <td>176.9</td>\n",
              "      <td>0.0</td>\n",
              "      <td>141.1</td>\n",
              "      <td>115.8</td>\n",
              "      <td>167.9</td>\n",
              "      <td>149.4</td>\n",
              "      <td>127.6</td>\n",
              "      <td>196.0</td>\n",
              "      <td>63.7</td>\n",
              "    </tr>\n",
              "    <tr>\n",
              "      <th>4</th>\n",
              "      <td>211.2</td>\n",
              "      <td>60.4</td>\n",
              "      <td>174.2</td>\n",
              "      <td>145.4</td>\n",
              "      <td>0.0</td>\n",
              "      <td>71.9</td>\n",
              "      <td>160.7</td>\n",
              "      <td>142.2</td>\n",
              "      <td>188.0</td>\n",
              "      <td>86.7</td>\n",
              "      <td>92.8</td>\n",
              "    </tr>\n",
              "    <tr>\n",
              "      <th>5</th>\n",
              "      <td>273.3</td>\n",
              "      <td>107.8</td>\n",
              "      <td>212.4</td>\n",
              "      <td>113.9</td>\n",
              "      <td>71.7</td>\n",
              "      <td>0.0</td>\n",
              "      <td>110.6</td>\n",
              "      <td>92.1</td>\n",
              "      <td>137.9</td>\n",
              "      <td>148.8</td>\n",
              "      <td>88.4</td>\n",
              "    </tr>\n",
              "    <tr>\n",
              "      <th>6</th>\n",
              "      <td>355.4</td>\n",
              "      <td>195.7</td>\n",
              "      <td>306.5</td>\n",
              "      <td>161.0</td>\n",
              "      <td>149.5</td>\n",
              "      <td>94.1</td>\n",
              "      <td>0.0</td>\n",
              "      <td>39.1</td>\n",
              "      <td>102.8</td>\n",
              "      <td>229.6</td>\n",
              "      <td>182.5</td>\n",
              "    </tr>\n",
              "    <tr>\n",
              "      <th>7</th>\n",
              "      <td>328.3</td>\n",
              "      <td>162.8</td>\n",
              "      <td>267.4</td>\n",
              "      <td>121.9</td>\n",
              "      <td>126.7</td>\n",
              "      <td>55.0</td>\n",
              "      <td>52.8</td>\n",
              "      <td>0.0</td>\n",
              "      <td>80.1</td>\n",
              "      <td>203.8</td>\n",
              "      <td>143.4</td>\n",
              "    </tr>\n",
              "    <tr>\n",
              "      <th>8</th>\n",
              "      <td>409.0</td>\n",
              "      <td>242.7</td>\n",
              "      <td>303.0</td>\n",
              "      <td>143.5</td>\n",
              "      <td>203.2</td>\n",
              "      <td>143.7</td>\n",
              "      <td>129.3</td>\n",
              "      <td>116.5</td>\n",
              "      <td>0.0</td>\n",
              "      <td>284.5</td>\n",
              "      <td>195.7</td>\n",
              "    </tr>\n",
              "    <tr>\n",
              "      <th>9</th>\n",
              "      <td>142.3</td>\n",
              "      <td>104.0</td>\n",
              "      <td>229.9</td>\n",
              "      <td>202.8</td>\n",
              "      <td>83.4</td>\n",
              "      <td>150.7</td>\n",
              "      <td>222.8</td>\n",
              "      <td>215.5</td>\n",
              "      <td>261.3</td>\n",
              "      <td>0.0</td>\n",
              "      <td>148.4</td>\n",
              "    </tr>\n",
              "    <tr>\n",
              "      <th>10</th>\n",
              "      <td>270.3</td>\n",
              "      <td>77.7</td>\n",
              "      <td>127.5</td>\n",
              "      <td>61.6</td>\n",
              "      <td>90.9</td>\n",
              "      <td>85.2</td>\n",
              "      <td>195.8</td>\n",
              "      <td>177.3</td>\n",
              "      <td>172.5</td>\n",
              "      <td>145.8</td>\n",
              "      <td>0.0</td>\n",
              "    </tr>\n",
              "  </tbody>\n",
              "</table>\n",
              "</div>\n",
              "    <div class=\"colab-df-buttons\">\n",
              "\n",
              "  <div class=\"colab-df-container\">\n",
              "    <button class=\"colab-df-convert\" onclick=\"convertToInteractive('df-9fbf219e-fdcb-41fd-ab35-9de6a3a580e8')\"\n",
              "            title=\"Convert this dataframe to an interactive table.\"\n",
              "            style=\"display:none;\">\n",
              "\n",
              "  <svg xmlns=\"http://www.w3.org/2000/svg\" height=\"24px\" viewBox=\"0 -960 960 960\">\n",
              "    <path d=\"M120-120v-720h720v720H120Zm60-500h600v-160H180v160Zm220 220h160v-160H400v160Zm0 220h160v-160H400v160ZM180-400h160v-160H180v160Zm440 0h160v-160H620v160ZM180-180h160v-160H180v160Zm440 0h160v-160H620v160Z\"/>\n",
              "  </svg>\n",
              "    </button>\n",
              "\n",
              "  <style>\n",
              "    .colab-df-container {\n",
              "      display:flex;\n",
              "      gap: 12px;\n",
              "    }\n",
              "\n",
              "    .colab-df-convert {\n",
              "      background-color: #E8F0FE;\n",
              "      border: none;\n",
              "      border-radius: 50%;\n",
              "      cursor: pointer;\n",
              "      display: none;\n",
              "      fill: #1967D2;\n",
              "      height: 32px;\n",
              "      padding: 0 0 0 0;\n",
              "      width: 32px;\n",
              "    }\n",
              "\n",
              "    .colab-df-convert:hover {\n",
              "      background-color: #E2EBFA;\n",
              "      box-shadow: 0px 1px 2px rgba(60, 64, 67, 0.3), 0px 1px 3px 1px rgba(60, 64, 67, 0.15);\n",
              "      fill: #174EA6;\n",
              "    }\n",
              "\n",
              "    .colab-df-buttons div {\n",
              "      margin-bottom: 4px;\n",
              "    }\n",
              "\n",
              "    [theme=dark] .colab-df-convert {\n",
              "      background-color: #3B4455;\n",
              "      fill: #D2E3FC;\n",
              "    }\n",
              "\n",
              "    [theme=dark] .colab-df-convert:hover {\n",
              "      background-color: #434B5C;\n",
              "      box-shadow: 0px 1px 3px 1px rgba(0, 0, 0, 0.15);\n",
              "      filter: drop-shadow(0px 1px 2px rgba(0, 0, 0, 0.3));\n",
              "      fill: #FFFFFF;\n",
              "    }\n",
              "  </style>\n",
              "\n",
              "    <script>\n",
              "      const buttonEl =\n",
              "        document.querySelector('#df-9fbf219e-fdcb-41fd-ab35-9de6a3a580e8 button.colab-df-convert');\n",
              "      buttonEl.style.display =\n",
              "        google.colab.kernel.accessAllowed ? 'block' : 'none';\n",
              "\n",
              "      async function convertToInteractive(key) {\n",
              "        const element = document.querySelector('#df-9fbf219e-fdcb-41fd-ab35-9de6a3a580e8');\n",
              "        const dataTable =\n",
              "          await google.colab.kernel.invokeFunction('convertToInteractive',\n",
              "                                                    [key], {});\n",
              "        if (!dataTable) return;\n",
              "\n",
              "        const docLinkHtml = 'Like what you see? Visit the ' +\n",
              "          '<a target=\"_blank\" href=https://colab.research.google.com/notebooks/data_table.ipynb>data table notebook</a>'\n",
              "          + ' to learn more about interactive tables.';\n",
              "        element.innerHTML = '';\n",
              "        dataTable['output_type'] = 'display_data';\n",
              "        await google.colab.output.renderOutput(dataTable, element);\n",
              "        const docLink = document.createElement('div');\n",
              "        docLink.innerHTML = docLinkHtml;\n",
              "        element.appendChild(docLink);\n",
              "      }\n",
              "    </script>\n",
              "  </div>\n",
              "\n",
              "\n",
              "<div id=\"df-25cad76f-ce00-4599-b590-1734123595fc\">\n",
              "  <button class=\"colab-df-quickchart\" onclick=\"quickchart('df-25cad76f-ce00-4599-b590-1734123595fc')\"\n",
              "            title=\"Suggest charts\"\n",
              "            style=\"display:none;\">\n",
              "\n",
              "<svg xmlns=\"http://www.w3.org/2000/svg\" height=\"24px\"viewBox=\"0 0 24 24\"\n",
              "     width=\"24px\">\n",
              "    <g>\n",
              "        <path d=\"M19 3H5c-1.1 0-2 .9-2 2v14c0 1.1.9 2 2 2h14c1.1 0 2-.9 2-2V5c0-1.1-.9-2-2-2zM9 17H7v-7h2v7zm4 0h-2V7h2v10zm4 0h-2v-4h2v4z\"/>\n",
              "    </g>\n",
              "</svg>\n",
              "  </button>\n",
              "\n",
              "<style>\n",
              "  .colab-df-quickchart {\n",
              "      --bg-color: #E8F0FE;\n",
              "      --fill-color: #1967D2;\n",
              "      --hover-bg-color: #E2EBFA;\n",
              "      --hover-fill-color: #174EA6;\n",
              "      --disabled-fill-color: #AAA;\n",
              "      --disabled-bg-color: #DDD;\n",
              "  }\n",
              "\n",
              "  [theme=dark] .colab-df-quickchart {\n",
              "      --bg-color: #3B4455;\n",
              "      --fill-color: #D2E3FC;\n",
              "      --hover-bg-color: #434B5C;\n",
              "      --hover-fill-color: #FFFFFF;\n",
              "      --disabled-bg-color: #3B4455;\n",
              "      --disabled-fill-color: #666;\n",
              "  }\n",
              "\n",
              "  .colab-df-quickchart {\n",
              "    background-color: var(--bg-color);\n",
              "    border: none;\n",
              "    border-radius: 50%;\n",
              "    cursor: pointer;\n",
              "    display: none;\n",
              "    fill: var(--fill-color);\n",
              "    height: 32px;\n",
              "    padding: 0;\n",
              "    width: 32px;\n",
              "  }\n",
              "\n",
              "  .colab-df-quickchart:hover {\n",
              "    background-color: var(--hover-bg-color);\n",
              "    box-shadow: 0 1px 2px rgba(60, 64, 67, 0.3), 0 1px 3px 1px rgba(60, 64, 67, 0.15);\n",
              "    fill: var(--button-hover-fill-color);\n",
              "  }\n",
              "\n",
              "  .colab-df-quickchart-complete:disabled,\n",
              "  .colab-df-quickchart-complete:disabled:hover {\n",
              "    background-color: var(--disabled-bg-color);\n",
              "    fill: var(--disabled-fill-color);\n",
              "    box-shadow: none;\n",
              "  }\n",
              "\n",
              "  .colab-df-spinner {\n",
              "    border: 2px solid var(--fill-color);\n",
              "    border-color: transparent;\n",
              "    border-bottom-color: var(--fill-color);\n",
              "    animation:\n",
              "      spin 1s steps(1) infinite;\n",
              "  }\n",
              "\n",
              "  @keyframes spin {\n",
              "    0% {\n",
              "      border-color: transparent;\n",
              "      border-bottom-color: var(--fill-color);\n",
              "      border-left-color: var(--fill-color);\n",
              "    }\n",
              "    20% {\n",
              "      border-color: transparent;\n",
              "      border-left-color: var(--fill-color);\n",
              "      border-top-color: var(--fill-color);\n",
              "    }\n",
              "    30% {\n",
              "      border-color: transparent;\n",
              "      border-left-color: var(--fill-color);\n",
              "      border-top-color: var(--fill-color);\n",
              "      border-right-color: var(--fill-color);\n",
              "    }\n",
              "    40% {\n",
              "      border-color: transparent;\n",
              "      border-right-color: var(--fill-color);\n",
              "      border-top-color: var(--fill-color);\n",
              "    }\n",
              "    60% {\n",
              "      border-color: transparent;\n",
              "      border-right-color: var(--fill-color);\n",
              "    }\n",
              "    80% {\n",
              "      border-color: transparent;\n",
              "      border-right-color: var(--fill-color);\n",
              "      border-bottom-color: var(--fill-color);\n",
              "    }\n",
              "    90% {\n",
              "      border-color: transparent;\n",
              "      border-bottom-color: var(--fill-color);\n",
              "    }\n",
              "  }\n",
              "</style>\n",
              "\n",
              "  <script>\n",
              "    async function quickchart(key) {\n",
              "      const quickchartButtonEl =\n",
              "        document.querySelector('#' + key + ' button');\n",
              "      quickchartButtonEl.disabled = true;  // To prevent multiple clicks.\n",
              "      quickchartButtonEl.classList.add('colab-df-spinner');\n",
              "      try {\n",
              "        const charts = await google.colab.kernel.invokeFunction(\n",
              "            'suggestCharts', [key], {});\n",
              "      } catch (error) {\n",
              "        console.error('Error during call to suggestCharts:', error);\n",
              "      }\n",
              "      quickchartButtonEl.classList.remove('colab-df-spinner');\n",
              "      quickchartButtonEl.classList.add('colab-df-quickchart-complete');\n",
              "    }\n",
              "    (() => {\n",
              "      let quickchartButtonEl =\n",
              "        document.querySelector('#df-25cad76f-ce00-4599-b590-1734123595fc button');\n",
              "      quickchartButtonEl.style.display =\n",
              "        google.colab.kernel.accessAllowed ? 'block' : 'none';\n",
              "    })();\n",
              "  </script>\n",
              "</div>\n",
              "\n",
              "  <div id=\"id_d16c8423-fd78-4e3f-957b-918e340bc5da\">\n",
              "    <style>\n",
              "      .colab-df-generate {\n",
              "        background-color: #E8F0FE;\n",
              "        border: none;\n",
              "        border-radius: 50%;\n",
              "        cursor: pointer;\n",
              "        display: none;\n",
              "        fill: #1967D2;\n",
              "        height: 32px;\n",
              "        padding: 0 0 0 0;\n",
              "        width: 32px;\n",
              "      }\n",
              "\n",
              "      .colab-df-generate:hover {\n",
              "        background-color: #E2EBFA;\n",
              "        box-shadow: 0px 1px 2px rgba(60, 64, 67, 0.3), 0px 1px 3px 1px rgba(60, 64, 67, 0.15);\n",
              "        fill: #174EA6;\n",
              "      }\n",
              "\n",
              "      [theme=dark] .colab-df-generate {\n",
              "        background-color: #3B4455;\n",
              "        fill: #D2E3FC;\n",
              "      }\n",
              "\n",
              "      [theme=dark] .colab-df-generate:hover {\n",
              "        background-color: #434B5C;\n",
              "        box-shadow: 0px 1px 3px 1px rgba(0, 0, 0, 0.15);\n",
              "        filter: drop-shadow(0px 1px 2px rgba(0, 0, 0, 0.3));\n",
              "        fill: #FFFFFF;\n",
              "      }\n",
              "    </style>\n",
              "    <button class=\"colab-df-generate\" onclick=\"generateWithVariable('df')\"\n",
              "            title=\"Generate code using this dataframe.\"\n",
              "            style=\"display:none;\">\n",
              "\n",
              "  <svg xmlns=\"http://www.w3.org/2000/svg\" height=\"24px\"viewBox=\"0 0 24 24\"\n",
              "       width=\"24px\">\n",
              "    <path d=\"M7,19H8.4L18.45,9,17,7.55,7,17.6ZM5,21V16.75L18.45,3.32a2,2,0,0,1,2.83,0l1.4,1.43a1.91,1.91,0,0,1,.58,1.4,1.91,1.91,0,0,1-.58,1.4L9.25,21ZM18.45,9,17,7.55Zm-12,3A5.31,5.31,0,0,0,4.9,8.1,5.31,5.31,0,0,0,1,6.5,5.31,5.31,0,0,0,4.9,4.9,5.31,5.31,0,0,0,6.5,1,5.31,5.31,0,0,0,8.1,4.9,5.31,5.31,0,0,0,12,6.5,5.46,5.46,0,0,0,6.5,12Z\"/>\n",
              "  </svg>\n",
              "    </button>\n",
              "    <script>\n",
              "      (() => {\n",
              "      const buttonEl =\n",
              "        document.querySelector('#id_d16c8423-fd78-4e3f-957b-918e340bc5da button.colab-df-generate');\n",
              "      buttonEl.style.display =\n",
              "        google.colab.kernel.accessAllowed ? 'block' : 'none';\n",
              "\n",
              "      buttonEl.onclick = () => {\n",
              "        google.colab.notebook.generateWithVariable('df');\n",
              "      }\n",
              "      })();\n",
              "    </script>\n",
              "  </div>\n",
              "\n",
              "    </div>\n",
              "  </div>\n"
            ],
            "application/vnd.google.colaboratory.intrinsic+json": {
              "type": "dataframe",
              "variable_name": "df",
              "summary": "{\n  \"name\": \"df\",\n  \"rows\": 11,\n  \"fields\": [\n    {\n      \"column\": 0,\n      \"properties\": {\n        \"dtype\": \"number\",\n        \"std\": 112.5278131275674,\n        \"min\": 0.0,\n        \"max\": 409.0,\n        \"num_unique_values\": 11,\n        \"samples\": [\n          273.3,\n          0.0,\n          142.3\n        ],\n        \"semantic_type\": \"\",\n        \"description\": \"\"\n      }\n    },\n    {\n      \"column\": 1,\n      \"properties\": {\n        \"dtype\": \"number\",\n        \"std\": 73.22635392460087,\n        \"min\": 0.0,\n        \"max\": 242.7,\n        \"num_unique_values\": 11,\n        \"samples\": [\n          107.8,\n          225.4,\n          104.0\n        ],\n        \"semantic_type\": \"\",\n        \"description\": \"\"\n      }\n    },\n    {\n      \"column\": 2,\n      \"properties\": {\n        \"dtype\": \"number\",\n        \"std\": 99.2392948199635,\n        \"min\": 0.0,\n        \"max\": 351.3,\n        \"num_unique_values\": 11,\n        \"samples\": [\n          212.4,\n          351.3,\n          229.9\n        ],\n        \"semantic_type\": \"\",\n        \"description\": \"\"\n      }\n    },\n    {\n      \"column\": 3,\n      \"properties\": {\n        \"dtype\": \"number\",\n        \"std\": 80.88869344520732,\n        \"min\": 0.0,\n        \"max\": 324.2,\n        \"num_unique_values\": 11,\n        \"samples\": [\n          113.9,\n          324.2,\n          202.8\n        ],\n        \"semantic_type\": \"\",\n        \"description\": \"\"\n      }\n    },\n    {\n      \"column\": 4,\n      \"properties\": {\n        \"dtype\": \"number\",\n        \"std\": 61.10183005740202,\n        \"min\": 0.0,\n        \"max\": 204.8,\n        \"num_unique_values\": 11,\n        \"samples\": [\n          71.7,\n          204.8,\n          83.4\n        ],\n        \"semantic_type\": \"\",\n        \"description\": \"\"\n      }\n    },\n    {\n      \"column\": 5,\n      \"properties\": {\n        \"dtype\": \"number\",\n        \"std\": 69.45454366968109,\n        \"min\": 0.0,\n        \"max\": 272.1,\n        \"num_unique_values\": 11,\n        \"samples\": [\n          0.0,\n          272.1,\n          150.7\n        ],\n        \"semantic_type\": \"\",\n        \"description\": \"\"\n      }\n    },\n    {\n      \"column\": 6,\n      \"properties\": {\n        \"dtype\": \"number\",\n        \"std\": 96.95527178690557,\n        \"min\": 0.0,\n        \"max\": 349.7,\n        \"num_unique_values\": 11,\n        \"samples\": [\n          110.6,\n          349.7,\n          222.8\n        ],\n        \"semantic_type\": \"\",\n        \"description\": \"\"\n      }\n    },\n    {\n      \"column\": 7,\n      \"properties\": {\n        \"dtype\": \"number\",\n        \"std\": 95.3886976342776,\n        \"min\": 0.0,\n        \"max\": 340.2,\n        \"num_unique_values\": 11,\n        \"samples\": [\n          92.1,\n          340.2,\n          215.5\n        ],\n        \"semantic_type\": \"\",\n        \"description\": \"\"\n      }\n    },\n    {\n      \"column\": 8,\n      \"properties\": {\n        \"dtype\": \"number\",\n        \"std\": 103.9843458498354,\n        \"min\": 0.0,\n        \"max\": 386.0,\n        \"num_unique_values\": 11,\n        \"samples\": [\n          137.9,\n          386.0,\n          261.3\n        ],\n        \"semantic_type\": \"\",\n        \"description\": \"\"\n      }\n    },\n    {\n      \"column\": 9,\n      \"properties\": {\n        \"dtype\": \"number\",\n        \"std\": 76.53995154047448,\n        \"min\": 0.0,\n        \"max\": 284.5,\n        \"num_unique_values\": 11,\n        \"samples\": [\n          148.8,\n          141.8,\n          0.0\n        ],\n        \"semantic_type\": \"\",\n        \"description\": \"\"\n      }\n    },\n    {\n      \"column\": 10,\n      \"properties\": {\n        \"dtype\": \"number\",\n        \"std\": 74.8244855402537,\n        \"min\": 0.0,\n        \"max\": 269.8,\n        \"num_unique_values\": 11,\n        \"samples\": [\n          88.4,\n          269.8,\n          148.4\n        ],\n        \"semantic_type\": \"\",\n        \"description\": \"\"\n      }\n    }\n  ]\n}"
            }
          },
          "metadata": {},
          "execution_count": 5
        }
      ]
    },
    {
      "cell_type": "code",
      "source": [
        "nodes = range(df.shape[0])# List of nodes"
      ],
      "metadata": {
        "id": "coxJce-EMlHx"
      },
      "execution_count": null,
      "outputs": []
    },
    {
      "cell_type": "code",
      "source": [
        "nodes"
      ],
      "metadata": {
        "colab": {
          "base_uri": "https://localhost:8080/"
        },
        "id": "of5KLXRXMlKf",
        "outputId": "13bca2f9-f460-4cdf-8f5e-b4efa3555d1f"
      },
      "execution_count": null,
      "outputs": [
        {
          "output_type": "execute_result",
          "data": {
            "text/plain": [
              "range(0, 11)"
            ]
          },
          "metadata": {},
          "execution_count": 7
        }
      ]
    },
    {
      "cell_type": "code",
      "source": [
        "dist = [[df[j][i] for j in nodes] for i in nodes]# Build distance matrix"
      ],
      "metadata": {
        "id": "gBb9GIheMlNC"
      },
      "execution_count": null,
      "outputs": []
    },
    {
      "cell_type": "code",
      "source": [
        "dist"
      ],
      "metadata": {
        "colab": {
          "base_uri": "https://localhost:8080/"
        },
        "id": "Nl8zTTU8MlPi",
        "outputId": "e42956a7-ebdd-4c65-fafb-7b5ba7a6d49e"
      },
      "execution_count": null,
      "outputs": [
        {
          "output_type": "execute_result",
          "data": {
            "text/plain": [
              "[[0.0, 225.4, 351.3, 324.2, 204.8, 272.1, 349.7, 340.2, 386.0, 141.8, 269.8],\n",
              " [228.1, 0.0, 150.1, 123.0, 62.8, 113.6, 209.4, 190.9, 226.7, 103.6, 73.6],\n",
              " [303.5, 101.6, 0.0, 145.5, 124.1, 153.2, 263.8, 245.3, 244.6, 179.0, 86.1],\n",
              " [320.5, 123.2, 176.9, 0.0, 141.1, 115.8, 167.9, 149.4, 127.6, 196.0, 63.7],\n",
              " [211.2, 60.4, 174.2, 145.4, 0.0, 71.9, 160.7, 142.2, 188.0, 86.7, 92.8],\n",
              " [273.3, 107.8, 212.4, 113.9, 71.7, 0.0, 110.6, 92.1, 137.9, 148.8, 88.4],\n",
              " [355.4, 195.7, 306.5, 161.0, 149.5, 94.1, 0.0, 39.1, 102.8, 229.6, 182.5],\n",
              " [328.3, 162.8, 267.4, 121.9, 126.7, 55.0, 52.8, 0.0, 80.1, 203.8, 143.4],\n",
              " [409.0, 242.7, 303.0, 143.5, 203.2, 143.7, 129.3, 116.5, 0.0, 284.5, 195.7],\n",
              " [142.3, 104.0, 229.9, 202.8, 83.4, 150.7, 222.8, 215.5, 261.3, 0.0, 148.4],\n",
              " [270.3, 77.7, 127.5, 61.6, 90.9, 85.2, 195.8, 177.3, 172.5, 145.8, 0.0]]"
            ]
          },
          "metadata": {},
          "execution_count": 9
        }
      ]
    },
    {
      "cell_type": "code",
      "source": [
        "demand = np.ones(len(nodes))"
      ],
      "metadata": {
        "id": "zVR3t5fVMlR8"
      },
      "execution_count": null,
      "outputs": []
    },
    {
      "cell_type": "code",
      "source": [
        "demand"
      ],
      "metadata": {
        "colab": {
          "base_uri": "https://localhost:8080/"
        },
        "id": "41-uxtROMlUO",
        "outputId": "aa19f170-ffd7-4494-94b3-91f1f36100b3"
      },
      "execution_count": null,
      "outputs": [
        {
          "output_type": "execute_result",
          "data": {
            "text/plain": [
              "array([1., 1., 1., 1., 1., 1., 1., 1., 1., 1., 1.])"
            ]
          },
          "metadata": {},
          "execution_count": 11
        }
      ]
    },
    {
      "cell_type": "code",
      "source": [
        "veh_cap = 5 # vehicle capacity\n",
        "k = 2 # number of vehicles"
      ],
      "metadata": {
        "id": "fIAFCsVAM8vf"
      },
      "execution_count": null,
      "outputs": []
    },
    {
      "cell_type": "code",
      "source": [
        "#Create a new model\n",
        "vrp = Model(\"vrp_model\")"
      ],
      "metadata": {
        "colab": {
          "base_uri": "https://localhost:8080/"
        },
        "id": "lLi19JnxM8yJ",
        "outputId": "12fe41a2-b1ac-4426-e967-89542036c325"
      },
      "execution_count": null,
      "outputs": [
        {
          "output_type": "stream",
          "name": "stdout",
          "text": [
            "Restricted license - for non-production use only - expires 2025-11-24\n"
          ]
        }
      ]
    },
    {
      "cell_type": "code",
      "source": [
        "#Create variables\n",
        "x = vrp.addVars(nodes, nodes, lb = 0,vtype = GRB.BINARY,name = 'x')\n",
        "u = vrp.addVars(nodes, lb = 0,vtype = GRB.INTEGER,name = 'u')"
      ],
      "metadata": {
        "id": "VLmGdKYpM80u"
      },
      "execution_count": null,
      "outputs": []
    },
    {
      "cell_type": "code",
      "source": [
        "#Add constraint\n",
        "vrp.addConstrs(((quicksum(x[i,j] for j in nodes if j != i) == 1) for i in nodes if i != 0), name = '1');\n",
        "vrp.addConstrs(((quicksum(x[i,j] for i in nodes if i != j) == 1) for j in nodes if j != 0), name = '2');\n",
        "vrp.addConstr(((quicksum(x[0,j] for j in nodes) == k)), name = '3');\n",
        "vrp.addConstr(((quicksum(x[i,0] for i in nodes) == k)), name = '4');\n",
        "vrp.addConstrs(((u[i] - u[j] + veh_cap*x[i,j] <= veh_cap - demand[j]) for i in nodes for j in nodes if i!=j and i != 0 and j != 0), name = '5');\n",
        "vrp.addConstrs(((u[i] <= veh_cap) for i in nodes), name = '6');\n",
        "vrp.addConstrs(((u[i] >= demand[i]) for i in nodes), name = '7');"
      ],
      "metadata": {
        "id": "WG4NcBleM83H"
      },
      "execution_count": null,
      "outputs": []
    },
    {
      "cell_type": "code",
      "source": [
        "#set objective function\n",
        "vrp.setObjective((quicksum(dist[i][j]*x[i,j] for i in nodes for j in nodes if i != j)),GRB.MINIMIZE)"
      ],
      "metadata": {
        "id": "y4f1lar0M85a"
      },
      "execution_count": null,
      "outputs": []
    },
    {
      "cell_type": "code",
      "source": [
        "vrp.setParam(\"TimeLimit\", 600)   # time limit\n",
        "#vrp.setParam(\"OutputFlag\", 0)     # do not print on console"
      ],
      "metadata": {
        "colab": {
          "base_uri": "https://localhost:8080/"
        },
        "id": "BLvcmm1_M87w",
        "outputId": "b98c8cdb-fbad-4453-c7a4-52bd8b8c380b"
      },
      "execution_count": null,
      "outputs": [
        {
          "output_type": "stream",
          "name": "stdout",
          "text": [
            "Set parameter TimeLimit to value 600\n"
          ]
        }
      ]
    },
    {
      "cell_type": "code",
      "source": [
        "vrp.update()\n",
        "vrp.optimize()"
      ],
      "metadata": {
        "colab": {
          "base_uri": "https://localhost:8080/"
        },
        "id": "eVd_GJkgNH_0",
        "outputId": "95b64476-6bab-4985-cf7c-931bea60e5f9"
      },
      "execution_count": null,
      "outputs": [
        {
          "output_type": "stream",
          "name": "stdout",
          "text": [
            "\n",
            "Cutting planes:\n",
            "  Learned: 1\n",
            "  Gomory: 1\n",
            "  MIR: 2\n",
            "  Flow cover: 4\n",
            "  Zero half: 9\n",
            "\n",
            "Explored 133702 nodes (989472 simplex iterations) in 51.64 seconds (15.71 work units)\n",
            "Thread count was 2 (of 2 available processors)\n",
            "\n",
            "Solution count 10: 1721.1 1723.7 1728.1 ... 2052\n",
            "\n",
            "Optimal solution found (tolerance 1.00e-04)\n",
            "Best objective 1.721100000000e+03, best bound 1.721000000000e+03, gap 0.0058%\n"
          ]
        }
      ]
    },
    {
      "cell_type": "code",
      "source": [
        "status = vrp.status\n",
        "\n",
        "object_Value = vrp.objVal\n",
        "\n",
        "print()\n",
        "print(\"model status is: \", status)\n",
        "print()\n",
        "print(\"Objective value is: \", object_Value)"
      ],
      "metadata": {
        "colab": {
          "base_uri": "https://localhost:8080/"
        },
        "id": "5R7nV7l5NIDM",
        "outputId": "04a17840-c1dc-45b3-b2cf-edce1bb68bde"
      },
      "execution_count": null,
      "outputs": [
        {
          "output_type": "stream",
          "name": "stdout",
          "text": [
            "\n",
            "model status is:  2\n",
            "\n",
            "Objective value is:  1721.1\n"
          ]
        }
      ]
    },
    {
      "cell_type": "code",
      "source": [
        "# Print decision varibales which are not zeros\n",
        "if status !=3 and status != 4:\n",
        "    for v in vrp.getVars():\n",
        "        if vrp.objVal < 1e+99  and v.x!=0:\n",
        "            print('%s %f'%(v.Varname,v.x))"
      ],
      "metadata": {
        "colab": {
          "base_uri": "https://localhost:8080/"
        },
        "id": "ADGr0ZoFNIFv",
        "outputId": "06eb102d-4138-4888-9592-91d5441791cb"
      },
      "execution_count": null,
      "outputs": [
        {
          "output_type": "stream",
          "name": "stdout",
          "text": [
            "x[0,3] 1.000000\n",
            "x[0,4] 1.000000\n",
            "x[1,9] 1.000000\n",
            "x[2,1] 1.000000\n",
            "x[3,8] 1.000000\n",
            "x[4,10] 1.000000\n",
            "x[5,0] 1.000000\n",
            "x[6,7] 1.000000\n",
            "x[7,5] 1.000000\n",
            "x[8,6] 1.000000\n",
            "x[9,0] 1.000000\n",
            "x[10,2] 1.000000\n",
            "u[0] 1.000000\n",
            "u[1] 4.000000\n",
            "u[2] 3.000000\n",
            "u[3] 1.000000\n",
            "u[4] 1.000000\n",
            "u[5] 5.000000\n",
            "u[6] 3.000000\n",
            "u[7] 4.000000\n",
            "u[8] 2.000000\n",
            "u[9] 5.000000\n",
            "u[10] 2.000000\n"
          ]
        }
      ]
    },
    {
      "cell_type": "code",
      "source": [
        "# printing routes\n",
        "if status != 3 and status != 4:\n",
        "    vis = []\n",
        "    Sol_x = np.zeros([len(nodes), len(nodes)])\n",
        "    for i in nodes:\n",
        "        for j in nodes:\n",
        "            if vrp.objVal < 1e+99:\n",
        "                Sol_x[i,j] = x[i,j].getAttr(\"X\")\n",
        "            else:\n",
        "                error_status = True\n",
        "                ofvv = 1e+99\n",
        "            if 1 - 0.00001 <= Sol_x[i,j] <= 1 + 0.00001:\n",
        "                vis.append((i,j))\n",
        "\n",
        "visited = np.array(vis)\n",
        "solution = []\n",
        "if visited[0][0] == 0:\n",
        "    sol = [visited[0][0], visited[0][1]]\n",
        "elif visited[0][0] !=0 and visited[0][1] == 0:\n",
        "    sol = [visited[0][1], visited[0][0]]\n",
        "else:\n",
        "    print('First tuple should include depot 0')\n",
        "visited = np.delete(visited,0, axis = 0)\n",
        "\n",
        "solution = []\n",
        "for i in visited:\n",
        "    try:\n",
        "        next_ind = int(np.where(visited[:,0] == sol[-1])[0])\n",
        "        sol.append(visited[next_ind][1])\n",
        "        visited = np.delete(visited,next_ind, axis = 0)\n",
        "    except:\n",
        "        next_ind = int(np.where(visited[:,1] == sol[-1])[0])\n",
        "        sol.append(visited[next_ind][0])\n",
        "        visited = np.delete(visited,next_ind, axis = 0)\n",
        "\n",
        "    if sol[0] == sol[-1]:\n",
        "        sol = np.asarray(sol)\n",
        "        solution.append(sol)\n",
        "        used = []\n",
        "        for j in solution:\n",
        "            for k in j:\n",
        "                used.append(k)\n",
        "        remain = list(set(nodes) - set(used))\n",
        "        if remain == []:\n",
        "            break\n",
        "        sol=[visited[0][0], visited[0][1]]\n",
        "        visited = np.delete(visited,0, axis = 0)\n",
        "\n",
        "print('optimal Solution is:', solution)"
      ],
      "metadata": {
        "colab": {
          "base_uri": "https://localhost:8080/"
        },
        "id": "l9vcaccwNIIH",
        "outputId": "dfb4a224-1a85-40ab-c1b6-3b8948a37251"
      },
      "execution_count": null,
      "outputs": [
        {
          "output_type": "stream",
          "name": "stdout",
          "text": [
            "optimal Solution is: [array([0, 3, 8, 6, 7, 5, 0]), array([ 0,  4, 10,  2,  1,  9,  0])]\n"
          ]
        },
        {
          "output_type": "stream",
          "name": "stderr",
          "text": [
            "<ipython-input-21-dc341a2ce799>:28: DeprecationWarning: Conversion of an array with ndim > 0 to a scalar is deprecated, and will error in future. Ensure you extract a single element from your array before performing this operation. (Deprecated NumPy 1.25.)\n",
            "  next_ind = int(np.where(visited[:,0] == sol[-1])[0])\n"
          ]
        }
      ]
    }
  ]
}