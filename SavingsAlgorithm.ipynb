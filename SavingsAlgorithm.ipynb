{
  "nbformat": 4,
  "nbformat_minor": 0,
  "metadata": {
    "colab": {
      "provenance": []
    },
    "kernelspec": {
      "name": "python3",
      "display_name": "Python 3"
    },
    "language_info": {
      "name": "python"
    }
  },
  "cells": [
    {
      "cell_type": "code",
      "execution_count": null,
      "metadata": {
        "id": "7uiIU4-9HjLn"
      },
      "outputs": [],
      "source": [
        "def savings(nodes, origin, d):\n",
        "    '''\n",
        "    Constructs a TSP solution using the savings method for a given set/list of\n",
        "    nodes, their pairwise distances-d, and the origin.\n",
        "    '''\n",
        "    # Set of customer nodes (i.e. nodes other than the origin)\n",
        "    customers = {i for i in nodes if i != origin}\n",
        "\n",
        "    # Initialize out-and-back tours from the origin to every other node\n",
        "    tours = {(i,i): [origin, i, origin] for i in customers}\n",
        "\n",
        "    # Compute savings\n",
        "    savings = {(i, j): round(d[i][origin] + d[origin][j] - d[i][j], 2)\n",
        "               for i in customers for j in customers if j != i}\n",
        "\n",
        "    # Define a priority queue dictionary to get a pair of nodes (i,j) which yields\n",
        "    # the maximum savings\n",
        "    #pq = pqdict(savings, reverse = True)\n",
        "    sorted_savings = sorted(savings.items(), key=lambda item: item[1])\n",
        "    # Merge subtours until obtaining a TSP tour\n",
        "    while len(tours) > 1:\n",
        "        A = sorted_savings.pop()\n",
        "        i = A[0][0]\n",
        "        j = A[0][1]\n",
        "        print((i, j))\n",
        "        # Outer loop\n",
        "        break_outer = False\n",
        "        for t1 in tours:\n",
        "            for t2 in tours.keys()-{t1}:\n",
        "                if t1[1] == i and t2[0] == j:\n",
        "                    print('Merging', tours[t1], 'and', tours[t2])\n",
        "                    tours[(t1[0], t2[1])] = tours[t1][:-1] + tours[t2][1:]\n",
        "                    del tours[t1], tours[t2]\n",
        "                    print(tours)\n",
        "                    break_outer = True\n",
        "                    break\n",
        "            if break_outer:\n",
        "                break\n",
        "        else:\n",
        "            print('No merging opportunities can be found for', (i,j))\n",
        "\n",
        "    # Final tours dictionary (involves a single tour, which is the TSP tour)\n",
        "    print(tours)\n",
        "\n",
        "    # Compute tour length\n",
        "    tour_length = 0\n",
        "    for tour in tours.values():\n",
        "        for i in range(len(tour)-1):\n",
        "            tour_length += d[tour[i]][tour[i+1]]\n",
        "\n",
        "    # Round the result to 2 decimals to avoid floating point representation errors\n",
        "    tour_length = round(tour_length, 2)\n",
        "\n",
        "    # Return the resulting tour and its length as a tuple\n",
        "    return tour, tour_length"
      ]
    }
  ]
}