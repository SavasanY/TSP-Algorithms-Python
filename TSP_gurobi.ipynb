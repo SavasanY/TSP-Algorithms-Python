{
  "nbformat": 4,
  "nbformat_minor": 0,
  "metadata": {
    "colab": {
      "provenance": []
    },
    "kernelspec": {
      "name": "python3",
      "display_name": "Python 3"
    },
    "language_info": {
      "name": "python"
    }
  },
  "cells": [
    {
      "cell_type": "code",
      "execution_count": null,
      "metadata": {
        "id": "BGQQfQTUSUKs",
        "colab": {
          "base_uri": "https://localhost:8080/"
        },
        "outputId": "c3aea75a-83d3-4e99-83b4-65e779a4b752"
      },
      "outputs": [
        {
          "output_type": "stream",
          "name": "stdout",
          "text": [
            "Collecting gurobipy\n",
            "  Downloading gurobipy-11.0.1-cp310-cp310-manylinux2014_x86_64.manylinux_2_17_x86_64.whl (13.4 MB)\n",
            "\u001b[2K     \u001b[90m━━━━━━━━━━━━━━━━━━━━━━━━━━━━━━━━━━━━━━━━\u001b[0m \u001b[32m13.4/13.4 MB\u001b[0m \u001b[31m25.2 MB/s\u001b[0m eta \u001b[36m0:00:00\u001b[0m\n",
            "\u001b[?25hInstalling collected packages: gurobipy\n",
            "Successfully installed gurobipy-11.0.1\n"
          ]
        }
      ],
      "source": [
        "!pip install gurobipy\n",
        "import gurobipy as gp"
      ]
    },
    {
      "cell_type": "code",
      "source": [
        "import pandas as pd\n",
        "import numpy as np\n",
        "from gurobipy import *\n"
      ],
      "metadata": {
        "id": "VY2pdkGoSUzy"
      },
      "execution_count": null,
      "outputs": []
    },
    {
      "cell_type": "code",
      "source": [
        "df = pd.read_excel('real_distances_10customers.xls', index_col = 0) # dataframe\n",
        "#df = pd.read_excel('tsp_data.xls') # dataframe\n",
        "df"
      ],
      "metadata": {
        "id": "ivEi6493SU2c"
      },
      "execution_count": null,
      "outputs": []
    },
    {
      "cell_type": "code",
      "source": [
        "df.shape[0]"
      ],
      "metadata": {
        "id": "KG7HX-K3SU5G",
        "colab": {
          "base_uri": "https://localhost:8080/"
        },
        "outputId": "37c390b3-3e26-428b-d892-eaa4e2a49bab"
      },
      "execution_count": null,
      "outputs": [
        {
          "output_type": "execute_result",
          "data": {
            "text/plain": [
              "11"
            ]
          },
          "metadata": {},
          "execution_count": 4
        }
      ]
    },
    {
      "cell_type": "code",
      "source": [
        "nodes = range(df.shape[0])# List of nodes\n",
        "nodes"
      ],
      "metadata": {
        "id": "7Vm43RzvSU70",
        "colab": {
          "base_uri": "https://localhost:8080/"
        },
        "outputId": "28562309-d7b4-4306-b7ae-e9487262c110"
      },
      "execution_count": null,
      "outputs": [
        {
          "output_type": "execute_result",
          "data": {
            "text/plain": [
              "range(0, 11)"
            ]
          },
          "metadata": {},
          "execution_count": 5
        }
      ]
    },
    {
      "cell_type": "code",
      "source": [
        "for i in nodes:\n",
        " print(i)\n"
      ],
      "metadata": {
        "id": "LxiuA_MESU-g"
      },
      "execution_count": null,
      "outputs": []
    },
    {
      "cell_type": "code",
      "source": [
        "df.iloc[0,1]"
      ],
      "metadata": {
        "id": "ynsyaRWDSVBa"
      },
      "execution_count": null,
      "outputs": []
    },
    {
      "cell_type": "code",
      "source": [
        "d = [[df[j][i] for j in nodes] for i in nodes]# Build distance matrix\n",
        "d"
      ],
      "metadata": {
        "id": "gcLMD9eESVIK"
      },
      "execution_count": null,
      "outputs": []
    },
    {
      "cell_type": "code",
      "source": [
        "d[10][1]\n"
      ],
      "metadata": {
        "id": "itw10PeaSVNU"
      },
      "execution_count": null,
      "outputs": []
    },
    {
      "cell_type": "code",
      "source": [
        "tsp = Model(\"tsp_model\")\n"
      ],
      "metadata": {
        "id": "AreENZ3VUtJT"
      },
      "execution_count": null,
      "outputs": []
    },
    {
      "cell_type": "code",
      "source": [
        "x = tsp.addVars(nodes, nodes,lb = 0,vtype = GRB.BINARY, name = 'x')\n",
        "u = tsp.addVars(nodes, lb = 0,vtype = GRB.INTEGER, name = 'u')"
      ],
      "metadata": {
        "id": "c15sGmbtUtL9"
      },
      "execution_count": null,
      "outputs": []
    },
    {
      "cell_type": "code",
      "source": [
        "tsp.addConstrs(((quicksum(x[i,j] for j in nodes if j != i) == 1) for i in nodes), name=\"degree_const_1\")"
      ],
      "metadata": {
        "id": "merrDjYxUtOT"
      },
      "execution_count": null,
      "outputs": []
    },
    {
      "cell_type": "code",
      "source": [
        "tsp.addConstrs(((quicksum(x[i,j] for i in nodes if i != j) == 1) for j in nodes), name=\"degree_const_2\")\n"
      ],
      "metadata": {
        "id": "YsMx43FEbiuL"
      },
      "execution_count": null,
      "outputs": []
    },
    {
      "cell_type": "code",
      "source": [
        "tsp.addConstrs(((u[i] - u[j] + len(nodes)*x[i,j] <= len(nodes) - 1) for i in nodes for j in nodes if i!=0 and j!=0),name=\"abc\")"
      ],
      "metadata": {
        "id": "_rTQow6Gbiw1"
      },
      "execution_count": null,
      "outputs": []
    },
    {
      "cell_type": "code",
      "source": [
        "tsp.setObjective((quicksum(d[i][j]*x[i,j] for i in nodes for j in nodes if i != j)),GRB.MINIMIZE)\n"
      ],
      "metadata": {
        "id": "xZwCn2QJbizL"
      },
      "execution_count": null,
      "outputs": []
    },
    {
      "cell_type": "code",
      "source": [
        "tsp.setParam(\"TimeLimit\", 7200) # time limit\n",
        "#tsp.setParam(\"OutputFlag\", 0) # do not print on console\n"
      ],
      "metadata": {
        "id": "SETwhJPrbi13"
      },
      "execution_count": null,
      "outputs": []
    },
    {
      "cell_type": "code",
      "source": [
        "tsp.update()"
      ],
      "metadata": {
        "id": "gayHX0V9UtRJ"
      },
      "execution_count": null,
      "outputs": []
    },
    {
      "cell_type": "code",
      "source": [
        "tsp.optimize()\n"
      ],
      "metadata": {
        "id": "dhC9lkISe8FK"
      },
      "execution_count": null,
      "outputs": []
    },
    {
      "cell_type": "code",
      "source": [
        "status = tsp.status\n",
        "object_Value = tsp.objVal\n",
        "print(\"model status is: \", status)\n",
        "print(\"Objective value is: \", object_Value)\n"
      ],
      "metadata": {
        "id": "Nz1MN5c1e8Hv"
      },
      "execution_count": null,
      "outputs": []
    },
    {
      "cell_type": "code",
      "source": [
        "x"
      ],
      "metadata": {
        "id": "ZO7cngpGe8KT"
      },
      "execution_count": null,
      "outputs": []
    },
    {
      "cell_type": "code",
      "source": [
        "if status !=3 and status != 4:\n",
        "    for v in tsp.getVars():\n",
        "        if tsp.objVal < 1e+99  and v.x!=0:\n",
        "            print('%s %f'%(v.Varname,v.x))\n"
      ],
      "metadata": {
        "id": "BfTDSX5Fe8PR",
        "colab": {
          "base_uri": "https://localhost:8080/",
          "height": 201
        },
        "outputId": "84e0583c-3346-45c9-afca-421b69085f56"
      },
      "execution_count": null,
      "outputs": [
        {
          "output_type": "error",
          "ename": "NameError",
          "evalue": "name 'status' is not defined",
          "traceback": [
            "\u001b[0;31m---------------------------------------------------------------------------\u001b[0m",
            "\u001b[0;31mNameError\u001b[0m                                 Traceback (most recent call last)",
            "\u001b[0;32m<ipython-input-1-9a29ff843bd3>\u001b[0m in \u001b[0;36m<cell line: 1>\u001b[0;34m()\u001b[0m\n\u001b[0;32m----> 1\u001b[0;31m \u001b[0;32mif\u001b[0m \u001b[0mstatus\u001b[0m \u001b[0;34m!=\u001b[0m\u001b[0;36m3\u001b[0m \u001b[0;32mand\u001b[0m \u001b[0mstatus\u001b[0m \u001b[0;34m!=\u001b[0m \u001b[0;36m4\u001b[0m\u001b[0;34m:\u001b[0m\u001b[0;34m\u001b[0m\u001b[0;34m\u001b[0m\u001b[0m\n\u001b[0m\u001b[1;32m      2\u001b[0m     \u001b[0;32mfor\u001b[0m \u001b[0mv\u001b[0m \u001b[0;32min\u001b[0m \u001b[0mtsp\u001b[0m\u001b[0;34m.\u001b[0m\u001b[0mgetVars\u001b[0m\u001b[0;34m(\u001b[0m\u001b[0;34m)\u001b[0m\u001b[0;34m:\u001b[0m\u001b[0;34m\u001b[0m\u001b[0;34m\u001b[0m\u001b[0m\n\u001b[1;32m      3\u001b[0m         \u001b[0;32mif\u001b[0m \u001b[0mtsp\u001b[0m\u001b[0;34m.\u001b[0m\u001b[0mobjVal\u001b[0m \u001b[0;34m<\u001b[0m \u001b[0;36m1e+99\u001b[0m  \u001b[0;32mand\u001b[0m \u001b[0mv\u001b[0m\u001b[0;34m.\u001b[0m\u001b[0mx\u001b[0m\u001b[0;34m!=\u001b[0m\u001b[0;36m0\u001b[0m\u001b[0;34m:\u001b[0m\u001b[0;34m\u001b[0m\u001b[0;34m\u001b[0m\u001b[0m\n\u001b[1;32m      4\u001b[0m             \u001b[0mprint\u001b[0m\u001b[0;34m(\u001b[0m\u001b[0;34m'%s %f'\u001b[0m\u001b[0;34m%\u001b[0m\u001b[0;34m(\u001b[0m\u001b[0mv\u001b[0m\u001b[0;34m.\u001b[0m\u001b[0mVarname\u001b[0m\u001b[0;34m,\u001b[0m\u001b[0mv\u001b[0m\u001b[0;34m.\u001b[0m\u001b[0mx\u001b[0m\u001b[0;34m)\u001b[0m\u001b[0;34m)\u001b[0m\u001b[0;34m\u001b[0m\u001b[0;34m\u001b[0m\u001b[0m\n",
            "\u001b[0;31mNameError\u001b[0m: name 'status' is not defined"
          ]
        }
      ]
    },
    {
      "cell_type": "code",
      "source": [
        "if status != 3 and status != 4:\n",
        " vis = []\n",
        " Sol_x = np.zeros([len(nodes), len(nodes)])\n",
        " for i in nodes:\n",
        "  for j in nodes:\n",
        "   if tsp.objVal < 1e+99:\n",
        "    Sol_x[i,j] = x[i,j].getAttr(\"X\")\n",
        " else:\n",
        "   error_status = True\n",
        " ofvv = 1e+99\n",
        " if 1 - 0.00001 <= Sol_x[i,j] <= 1 + 0.00001:\n",
        "  vis.append((i,j))\n"
      ],
      "metadata": {
        "id": "rFe4cdQFfQLz"
      },
      "execution_count": null,
      "outputs": []
    },
    {
      "cell_type": "code",
      "source": [
        "df = pd.read_excel('real_distances_10customers.xls') # dataframe\n",
        "#df = pd.read_excel('tsp_data.xls') # dataframe\n",
        "\n",
        "nodes = range(df.shape[0])# List of nodes\n",
        "\n",
        "dist = [[df[j][i] for j in nodes] for i in nodes]# Build distance matrix\n",
        "\n",
        "#Create a new model\n",
        "tsp = Model(\"tsp_model\")\n",
        "\n",
        "#Create variables\n",
        "x = tsp.addVars(nodes, nodes, lb = 0,vtype = GRB.BINARY,name = 'x')\n",
        "u = tsp.addVars(nodes, lb = 0,vtype = GRB.INTEGER,name = 'u')\n",
        "\n",
        "#Add constraint\n",
        "tsp.addConstrs(((quicksum(x[i,j] for j in nodes if j != i) == 1) for i in nodes), name = '1')\n",
        "tsp.addConstrs(((quicksum(x[i,j] for i in nodes if i != j) == 1) for j in nodes), name = '2')\n",
        "tsp.addConstrs(((u[i] - u[j] + len(nodes)*x[i,j] <= len(nodes) - 1) for i in nodes for j in nodes if i != j and i != 0 and j != 0), name = '3')\n",
        "\n",
        "\n",
        "#set objective function\n",
        "tsp.setObjective((quicksum(dist[i][j]*x[i,j] for i in nodes for j in nodes if i != j)),GRB.MINIMIZE)\n",
        "\n",
        "tsp.setParam(\"TimeLimit\", 120)   # time limit\n",
        "#tsp.setParam(\"OutputFlag\", 0)     # do not print on console\n",
        "tsp.setParam(\"JSONSolDetail\",1)\n",
        "tsp.update()\n",
        "tsp.optimize()\n",
        "tsp.write('sina.json')\n",
        "\n",
        "status = tsp.status\n",
        "\n",
        "object_Value = tsp.objVal\n",
        "\n",
        "print()\n",
        "print(\"model status is: \", status)\n",
        "print()\n",
        "print(\"Objective value is: \", object_Value)\n",
        "\n",
        "\n",
        "if status !=3 and status != 4:\n",
        "    for v in tsp.getVars():\n",
        "        if tsp.objVal < 1e+99  and v.x!=0:\n",
        "            vv = v.Varname,v.x\n",
        "            print('%s %f'%(v.Varname,v.x))\n",
        "\n",
        "if status != 3 and status != 4:\n",
        "    vis = []\n",
        "    Sol_x = np.zeros([len(nodes), len(nodes)])\n",
        "    for i in nodes:\n",
        "        for j in nodes:\n",
        "            if tsp.objVal < 1e+99:\n",
        "                Sol_x[i,j] = x[i,j].getAttr(\"X\")\n",
        "            else:\n",
        "                error_status = True\n",
        "                ofvv = 1e+99\n",
        "            if 1 - 0.00001 <= Sol_x[i,j] <= 1 + 0.00001:\n",
        "                vis.append((i,j))\n"
      ],
      "metadata": {
        "id": "hJAlXQgPxE_n"
      },
      "execution_count": null,
      "outputs": []
    },
    {
      "cell_type": "code",
      "source": [
        "\n",
        "visited = np.array(vis)\n",
        "prt_solution = []\n",
        "if visited[0][0] == 0:\n",
        "    sol = [visited[0][0], visited[0][1]]\n",
        "elif visited[0][0] !=0 and visited[0][1] == 0:\n",
        "    sol = [visited[0][1], visited[0][0]]\n",
        "else:\n",
        "    print('First tuple should include depot 0')\n",
        "visited = np.delete(visited,0, axis = 0)\n",
        "\n",
        "\n",
        "for i in visited:\n",
        "    try:\n",
        "        next_ind = int(np.where(visited[:,0] == sol[-1])[0])\n",
        "        sol.append(visited[next_ind][1])\n",
        "        visited = np.delete(visited,next_ind, axis = 0)\n",
        "    except:\n",
        "        next_ind = int(np.where(visited[:,1] == sol[-1])[0])\n",
        "        sol.append(visited[next_ind][0])\n",
        "        visited = np.delete(visited,next_ind, axis = 0)\n",
        "\n",
        "    if sol[0] == sol[-1]:\n",
        "        sol = np.asarray(sol)\n",
        "        prt_solution.append(sol)\n",
        "        used = []\n",
        "        for j in prt_solution:\n",
        "            for k in j:\n",
        "                used.append(k)\n",
        "        remain = list(set(nodes) - set(used))\n",
        "        if remain == []:\n",
        "            break\n",
        "        sol=[visited[0][0], visited[0][1]]\n",
        "        visited = np.delete(visited,0, axis = 0)\n",
        "\n",
        "print()\n",
        "print('optimal tour is:', sol)"
      ],
      "metadata": {
        "id": "TMekudKtw6ni"
      },
      "execution_count": null,
      "outputs": []
    },
    {
      "cell_type": "code",
      "source": [
        "print(Sol_x)\n",
        "print()\n",
        "print(vis)\n"
      ],
      "metadata": {
        "id": "mNlapaShi_GP"
      },
      "execution_count": null,
      "outputs": []
    },
    {
      "cell_type": "code",
      "source": [
        "\n",
        "tsp.write('tsp.lp')"
      ],
      "metadata": {
        "id": "Qetfe0YyjMij"
      },
      "execution_count": null,
      "outputs": []
    }
  ]
}